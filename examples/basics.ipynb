{
 "cells": [
  {
   "cell_type": "markdown",
   "metadata": {
    "pycharm": {
     "name": "#%% md\n"
    }
   },
   "source": [
    "We start from an identifier."
   ]
  },
  {
   "cell_type": "code",
   "execution_count": 1,
   "metadata": {},
   "outputs": [],
   "source": [
    "identifier = \"ABAMIC\"\n",
    "# setup environment variable to use CSD API\n",
    "import os\n",
    "os.environ[\"CSDHOME\"] = \"/home/qai/CCDC/CSD_2022\""
   ]
  },
  {
   "cell_type": "markdown",
   "metadata": {
    "pycharm": {
     "name": "#%% md\n"
    }
   },
   "source": [
    "Import methods to convert the identifier to an entry and a chemical diagram."
   ]
  },
  {
   "cell_type": "code",
   "execution_count": 2,
   "metadata": {
    "pycharm": {
     "name": "#%%\n"
    }
   },
   "outputs": [],
   "source": [
    "from chemicaldiagram.converter import export_entry, from_csd_entry_to_diagram, get_entry_from_identifier\n",
    "entry = get_entry_from_identifier(identifier)\n",
    "entry_dict = export_entry(entry)\n",
    "chemical_diagram = from_csd_entry_to_diagram(entry)"
   ]
  },
  {
   "cell_type": "markdown",
   "metadata": {
    "pycharm": {
     "name": "#%% md\n"
    }
   },
   "source": [
    "`entry_dict` contains (almost) all information in the `ccdc.io.Entry` object,\n",
    "when generating a dataset,\n",
    "it is advised to always use information from this dictionary to be consistent.\n",
    "(For example, `CIF` uploaded to `CSD` may be different from the one obtained from `CSD API`)"
   ]
  },
  {
   "cell_type": "code",
   "execution_count": 3,
   "metadata": {
    "pycharm": {
     "name": "#%%\n"
    }
   },
   "outputs": [
    {
     "data": {
      "text/plain": [
       "{'cif_string': \"\\n#######################################################################\\n#\\n#                 Cambridge Crystallographic Data Centre\\n#                                CCDC \\n#\\n#######################################################################\\n#\\n# If this CIF has been generated from an entry in the Cambridge \\n# Structural Database, then it will include bibliographic, chemical, \\n# crystal, experimental, refinement or atomic coordinate data resulting \\n# from the CCDC's data processing and validation procedures.\\n#\\n#######################################################################\\n\\ndata_ABAMIC\\n_audit_creation_date             2016-11-22\\n_database_code_depnum_ccdc_archive 'CCDC 1409549'\\n_database_code_CSD               ABAMIC\\n_chemical_formula_moiety         '(H3 O11 P3 V2 2-)n,C6 H16 N2 2+'\\n_chemical_name_systematic        \\n'catena-[1,4-dimethylpiperazinediium tris(\\\\m-phosphonato)-dioxo-di-vanadium]'\\n_journal_coden_Cambridge         208\\n_journal_volume                  236\\n_journal_year                    2016\\n_journal_page_first              215\\n_journal_name_full               'J.Solid State Chem.'\\n_journal_paper_doi               10.1016/j.jssc.2015.08.007\\nloop_\\n_publ_author_name\\nA.Nourmahnad\\nM.B.Wenny\\nM.Zeller\\nJ.Schrier\\nA.J.Norquist\\n_chemical_absolute_configuration unk\\n_diffrn_ambient_temperature      100\\n_exptl_crystal_density_diffrn    1.915\\n#These two values have been output from a single CSD field.\\n_refine_ls_R_factor_gt           0.0272\\n_refine_ls_wR_factor_gt          0.0272\\n_diffrn_radiation_probe          x-ray\\n_symmetry_cell_setting           triclinic\\n_symmetry_space_group_name_H-M   'P -1'\\n_symmetry_Int_Tables_number      2\\n_space_group_name_Hall           '-P 1'\\nloop_\\n_symmetry_equiv_pos_site_id\\n_symmetry_equiv_pos_as_xyz\\n1 x,y,z\\n2 -x,-y,-z\\n_cell_length_a                   8.548(3)\\n_cell_length_b                   9.168(3)\\n_cell_length_c                   12.580(5)\\n_cell_angle_alpha                89.467(10)\\n_cell_angle_beta                 72.849(10)\\n_cell_angle_gamma                65.478(14)\\n_cell_volume                     849.778\\n_exptl_crystal_colour            blue\\n_exptl_crystal_description       prism\\n_cell_formula_units_Z            2\\nloop_\\n_atom_site_label\\n_atom_site_type_symbol\\n_atom_site_fract_x\\n_atom_site_fract_y\\n_atom_site_fract_z\\nV1 V -0.22244(3) 1.13214(3) 0.171382(19)\\nV2 V 0.17694(3) 0.78263(3) 0.33721(2)\\nP1 P -0.10000(5) 1.16360(4) 0.38923(3)\\nP2 P 0.21157(5) 0.90732(4) 0.08533(3)\\nP3 P 0.54677(5) 0.45922(4) 0.20882(3)\\nO1 O -0.25457(16) 0.97253(14) 0.16792(9)\\nO2 O -0.22620(15) 1.14078(13) 0.33290(9)\\nO3 O 0.04270(15) 1.06785(13) 0.12723(9)\\nO4 O 0.21676(16) 0.81423(13) -0.01576(9)\\nO5 O 0.51585(15) 0.30547(13) 0.22633(9)\\nO6 O 0.74690(15) 0.40761(14) 0.19451(9)\\nO7 O 0.01720(17) 0.72835(16) 0.35551(11)\\nO8 O 0.08397(15) 1.01840(13) 0.36376(9)\\nO9 O 0.24692(18) 0.79792(14) 0.17509(9)\\nO10 O 0.41710(16) 0.59742(13) 0.30280(9)\\nO11 O -0.20778(16) 1.21519(15) 0.51322(9)\\nH1 H -0.0683 1.2952 0.3496\\nH2 H 0.3540 0.9458 0.0501\\nH3 H 0.5158 0.5175 0.1061\\nV1_2 V 0.77756(3) 0.13214(3) 0.171382(19)\\nV1A V 0.22244(3) 0.86786(3) -0.171382(19)\\nV2A V -0.17694(3) 1.21737(3) 0.66279(2)\\nO4A O -0.21676(16) 1.18577(13) 0.01576(9)\\nO5_2 O -0.48415(15) 1.30547(13) 0.22633(9)\\nO6_2 O -0.25310(15) 1.40761(14) 0.19451(9)\\nO11A O 0.20778(16) 0.78481(15) 0.48678(9)\\nN1 N -0.54123(19) 1.17022(17) 0.49371(11)\\nC1 C -0.5983(2) 1.0817(2) 0.42456(14)\\nC2 C -0.5334(2) 1.0965(2) 0.59991(13)\\nC3 C -0.6616(2) 1.3478(2) 0.51713(16)\\nH4 H -0.4222 1.1559 0.4523\\nH5 H -0.7190 1.0961 0.4642\\nH6 H -0.5951 1.1263 0.3548\\nH7 H -0.4959 1.1537 0.6423\\nH8 H -0.6544 1.1091 0.6404\\nH9 H -0.6176 1.3974 0.5606\\nH10 H -0.7827 1.3667 0.5591\\nH11 H -0.6581 1.3906 0.4471\\nN1A N -0.45877(19) 0.82978(17) 0.50629(11)\\nC1A C -0.4017(2) 0.9183(2) 0.57544(14)\\nC2A C -0.4666(2) 0.9035(2) 0.40009(13)\\nC3A C -0.3384(2) 0.6522(2) 0.48287(16)\\nH4A H -0.5778 0.8441 0.5477\\nH5A H -0.2810 0.9039 0.5358\\nH6A H -0.4049 0.8737 0.6452\\nH7A H -0.5041 0.8463 0.3577\\nH8A H -0.3456 0.8909 0.3596\\nH9A H -0.3824 0.6026 0.4394\\nH10A H -0.2173 0.6333 0.4409\\nH11A H -0.3419 0.6094 0.5529\\nN2 N 0.05638(18) 1.42569(16) 0.09270(11)\\nC4 C 0.0018(2) 1.60182(18) 0.08571(13)\\nC5 C 0.1338(2) 1.33444(19) -0.02225(13)\\nC6 C 0.1898(2) 1.3617(2) 0.15511(15)\\nH12 H -0.0488 1.4116 0.1320\\nH13 H -0.0517 1.6591 0.1606\\nH14 H 0.1093 1.6154 0.0468\\nH15 H 0.2451 1.3432 -0.0612\\nH16 H 0.1613 1.2251 -0.0154\\nH17 H 0.3004 1.3677 0.1131\\nH18 H 0.2123 1.2524 0.1671\\nH19 H 0.1411 1.4275 0.2251\\nN2A N -0.05638(18) 1.57431(16) -0.09270(11)\\nC4A C -0.0018(2) 1.39818(18) -0.08571(13)\\nC5A C -0.1338(2) 1.66556(19) 0.02225(13)\\nC6A C -0.1898(2) 1.6383(2) -0.15511(15)\\nH12A H 0.0488 1.5884 -0.1320\\nH13A H 0.0517 1.3409 -0.1606\\nH14A H -0.1093 1.3846 -0.0468\\nH15A H -0.2451 1.6568 0.0612\\nH16A H -0.1613 1.7749 0.0154\\nH17A H -0.3004 1.6323 -0.1131\\nH18A H -0.2123 1.7476 -0.1671\\nH19A H -0.1411 1.5725 -0.2251\\nloop_\\n_geom_bond_atom_site_label_1\\n_geom_bond_atom_site_label_2\\n_geom_bond_site_symmetry_1\\n_geom_bond_site_symmetry_2\\nV1 O1 1_555 1_555\\nV2 O7 1_555 1_555\\nP1 O2 1_555 1_555\\nP2 O3 1_555 1_555\\nP3 O5 1_555 1_555\\nO2 V1 1_555 1_555\\nO3 V1 1_555 1_555\\nO4 P2 1_555 1_555\\nO5 V1_2 1_555 1_555\\nO6 P3 1_555 1_555\\nO8 V2 1_555 1_555\\nO9 V2 1_555 1_555\\nO10 V2 1_555 1_555\\nO11 P1 1_555 1_555\\nH1 P1 1_555 1_555\\nH2 P2 1_555 1_555\\nH3 P3 1_555 1_555\\nN1 C1 1_555 1_555\\nC1 H5 1_555 1_555\\nC2 N1 1_555 1_555\\nC3 N1 1_555 1_555\\nH4 N1 1_555 1_555\\nH6 C1 1_555 1_555\\nH7 C2 1_555 1_555\\nH8 C2 1_555 1_555\\nH9 C3 1_555 1_555\\nH10 C3 1_555 1_555\\nH11 C3 1_555 1_555\\nN2 C4 1_555 1_555\\nC4 H13 1_555 1_555\\nC5 N2 1_555 1_555\\nC6 N2 1_555 1_555\\nH12 N2 1_555 1_555\\nH14 C4 1_555 1_555\\nH15 C5 1_555 1_555\\nH16 C5 1_555 1_555\\nH17 C6 1_555 1_555\\nH18 C6 1_555 1_555\\nH19 C6 1_555 1_555\\nV1_2 O6 1_555 1_555\\nV1A O4 1_555 1_555\\nV2A O11 1_555 1_555\\nO4A V1 1_555 1_555\\nO5_2 V1 1_555 1_555\\nO6_2 V1 1_555 1_555\\nO11A V2 1_555 1_555\\nN1A C1A 1_555 1_555\\nC1A C2 1_555 1_555\\nC2A C1 1_555 1_555\\nC3A N1A 1_555 1_555\\nH4A N1A 1_555 1_555\\nH5A C1A 1_555 1_555\\nH6A C1A 1_555 1_555\\nH7A C2A 1_555 1_555\\nH8A C2A 1_555 1_555\\nH9A C3A 1_555 1_555\\nH10A C3A 1_555 1_555\\nH11A C3A 1_555 1_555\\nN2A C4A 1_555 1_555\\nC4A C5 1_555 1_555\\nC5A C4 1_555 1_555\\nC6A N2A 1_555 1_555\\nH12A N2A 1_555 1_555\\nH13A C4A 1_555 1_555\\nH14A C4A 1_555 1_555\\nH15A C5A 1_555 1_555\\nH16A C5A 1_555 1_555\\nH17A C6A 1_555 1_555\\nH18A C6A 1_555 1_555\\nH19A C6A 1_555 1_555\\nP1 O8 1_555 1_555\\nP2 O9 1_555 1_555\\nP3 O10 1_555 1_555\\nN1A C2A 1_555 1_555\\nN2A C5A 1_555 1_555\\n\\n#END\\n\",\n",
       " 'analogue': None,\n",
       " 'attributes': {},\n",
       " 'bioactivity': None,\n",
       " 'calculated_density': 1.915,\n",
       " 'ccdc_number': 1409549,\n",
       " 'chemical_name': 'catena-[1,4-dimethylpiperazinediium tris(μ-phosphonato)-dioxo-di-vanadium]',\n",
       " 'chemical_name_as_html': 'catena-[1,4-dimethylpiperazinediium tris(μ-phosphonato)-dioxo-di-vanadium]',\n",
       " 'color': 'blue',\n",
       " 'cross_references': [],\n",
       " 'database_name': 'as541be_ASER',\n",
       " 'deposition_date': '2016-11-22',\n",
       " 'disorder_details': None,\n",
       " 'doi': '',\n",
       " 'formula': '(H3 O11 P3 V2 2-)n,C6 H16 N2 2+',\n",
       " 'habit': 'prism',\n",
       " 'has_3d_structure': True,\n",
       " 'has_disorder': False,\n",
       " 'identifier': 'ABAMIC',\n",
       " 'is_organic': False,\n",
       " 'is_organometallic': True,\n",
       " 'is_polymeric': True,\n",
       " 'is_powder_study': False,\n",
       " 'melting_point': None,\n",
       " 'peptide_sequence': None,\n",
       " 'phase_transition': None,\n",
       " 'polymorph': None,\n",
       " 'pressure': None,\n",
       " 'previous_identifier': 'ABAMIC',\n",
       " 'publications': [{'authors': 'A.Nourmahnad, M.B.Wenny, M.Zeller, J.Schrier, A.J.Norquist',\n",
       "   'journal': '\"Journal(Journal of Solid State Chemistry)\"',\n",
       "   'volume': '236',\n",
       "   'year': 2016,\n",
       "   'first_page': '215',\n",
       "   'doi': '10.1016/j.jssc.2015.08.007'}],\n",
       " 'r_factor': 2.72,\n",
       " 'radiation_source': 'X-ray',\n",
       " 'remarks': None,\n",
       " 'solvent': None,\n",
       " 'source': None,\n",
       " 'synonyms': [],\n",
       " 'synonyms_as_html': [],\n",
       " 'temperature': '100 K'}"
      ]
     },
     "execution_count": 3,
     "metadata": {},
     "output_type": "execute_result"
    }
   ],
   "source": [
    "entry_dict"
   ]
  },
  {
   "cell_type": "markdown",
   "source": [
    "Sometimes it's easier to work with an object"
   ],
   "metadata": {
    "collapsed": false,
    "pycharm": {
     "name": "#%% md\n"
    }
   }
  },
  {
   "cell_type": "code",
   "execution_count": null,
   "outputs": [],
   "source": [
    "from chemicaldiagram.diagram import ExportedEntry\n",
    "exported_entry = ExportedEntry.from_dict(entry_dict)"
   ],
   "metadata": {
    "collapsed": false,
    "pycharm": {
     "name": "#%%\n"
    }
   }
  },
  {
   "cell_type": "markdown",
   "metadata": {
    "pycharm": {
     "name": "#%% md\n"
    }
   },
   "source": [
    "Now let's look at the `ChemicalDiagram` object."
   ]
  },
  {
   "cell_type": "code",
   "execution_count": 4,
   "metadata": {
    "pycharm": {
     "name": "#%%\n"
    }
   },
   "outputs": [
    {
     "data": {
      "text/plain": [
       "ChemicalDiagram: C6 H19 N2 O11 P3 V2 ; charge: 0."
      ]
     },
     "execution_count": 4,
     "metadata": {},
     "output_type": "execute_result"
    }
   ],
   "source": [
    "chemical_diagram"
   ]
  },
  {
   "cell_type": "markdown",
   "metadata": {
    "pycharm": {
     "name": "#%% md\n"
    }
   },
   "source": [
    "All info are stored as a `networkx.Graph` object."
   ]
  },
  {
   "cell_type": "code",
   "execution_count": 5,
   "metadata": {
    "pycharm": {
     "name": "#%%\n"
    }
   },
   "outputs": [
    {
     "data": {
      "text/plain": [
       "<networkx.classes.graph.Graph at 0x7ff1a00e1f28>"
      ]
     },
     "execution_count": 5,
     "metadata": {},
     "output_type": "execute_result"
    }
   ],
   "source": [
    "chemical_diagram.graph"
   ]
  },
  {
   "cell_type": "markdown",
   "metadata": {
    "pycharm": {
     "name": "#%% md\n"
    }
   },
   "source": [
    "The drawing (calculated 2d coordinates) from `CSD` is also stored."
   ]
  },
  {
   "cell_type": "code",
   "execution_count": 6,
   "metadata": {
    "pycharm": {
     "name": "#%%\n"
    }
   },
   "outputs": [
    {
     "name": "stderr",
     "output_type": "stream",
     "text": [
      "/home/qai/anaconda3/envs/chemicaldiagram/lib/python3.7/site-packages/networkx/drawing/nx_pylab.py:724: MatplotlibDeprecationWarning: Passing *transOffset* without *offsets* has no effect. This behavior is deprecated since 3.5 and in 3.6, *transOffset* will begin having an effect regardless of *offsets*. In the meantime, if you wish to set *transOffset*, call collection.set_offset_transform(transOffset) explicitly.\n",
      "  alpha=alpha,\n"
     ]
    },
    {
     "data": {
      "image/svg+xml": [
       "<svg height=\"288pt\" version=\"1.1\" viewBox=\"0 0 432 288\" width=\"432pt\" xmlns=\"http://www.w3.org/2000/svg\" xmlns:xlink=\"http://www.w3.org/1999/xlink\">\n",
       " <metadata>\n",
       "  <rdf:RDF xmlns:cc=\"http://creativecommons.org/ns#\" xmlns:dc=\"http://purl.org/dc/elements/1.1/\" xmlns:rdf=\"http://www.w3.org/1999/02/22-rdf-syntax-ns#\">\n",
       "   <cc:Work>\n",
       "    <dc:type rdf:resource=\"http://purl.org/dc/dcmitype/StillImage\"/>\n",
       "    <dc:date>2022-01-05T06:14:59.782796</dc:date>\n",
       "    <dc:format>image/svg+xml</dc:format>\n",
       "    <dc:creator>\n",
       "     <cc:Agent>\n",
       "      <dc:title>Matplotlib v3.5.0, https://matplotlib.org/</dc:title>\n",
       "     </cc:Agent>\n",
       "    </dc:creator>\n",
       "   </cc:Work>\n",
       "  </rdf:RDF>\n",
       " </metadata>\n",
       " <defs>\n",
       "  <style type=\"text/css\">*{stroke-linejoin: round; stroke-linecap: butt}</style>\n",
       " </defs>\n",
       " <g id=\"figure_1\">\n",
       "  <g id=\"patch_1\">\n",
       "   <path d=\"M 0 288  L 432 288  L 432 0  L 0 0  L 0 288  z \" style=\"fill: none\"/>\n",
       "  </g>\n",
       "  <g id=\"axes_1\">\n",
       "   <g id=\"patch_2\">\n",
       "    <path d=\"M 54 252  L 388.8 252  L 388.8 34.56  L 54 34.56  z \" style=\"fill: #ffffff\"/>\n",
       "   </g>\n",
       "   <g id=\"LineCollection_1\">\n",
       "    <path clip-path=\"url(#p509d619e20)\" d=\"M 112.566942 97.466522  L 95.657851 130.849987  \" style=\"fill: none; stroke: #ff0000\"/>\n",
       "    <path clip-path=\"url(#p509d619e20)\" d=\"M 112.566942 97.466522  L 154.68595 97.466522  \" style=\"fill: none; stroke: #000000\"/>\n",
       "    <path clip-path=\"url(#p509d619e20)\" d=\"M 112.566942 97.466522  L 132.242975 132.27056  \" style=\"fill: none; stroke: #000000\"/>\n",
       "    <path clip-path=\"url(#p509d619e20)\" d=\"M 112.566942 97.466522  L 83.052893 98.176809  \" style=\"fill: none; stroke: #808080\"/>\n",
       "    <path clip-path=\"url(#p509d619e20)\" d=\"M 112.566942 97.466522  L 97.502479 68.69992  \" style=\"fill: none; stroke: #808080\"/>\n",
       "    <path clip-path=\"url(#p509d619e20)\" d=\"M 112.566942 97.466522  L 126.709091 68.344776  \" style=\"fill: none; stroke: #808080\"/>\n",
       "    <path clip-path=\"url(#p509d619e20)\" d=\"M 189.426446 157.130586  L 169.135537 137.597708  \" style=\"fill: none; stroke: #ff0000\"/>\n",
       "    <path clip-path=\"url(#p509d619e20)\" d=\"M 189.426446 157.130586  L 202.338843 114.513398  \" style=\"fill: none; stroke: #000000\"/>\n",
       "    <path clip-path=\"url(#p509d619e20)\" d=\"M 189.426446 157.130586  L 154.68595 180.214897  \" style=\"fill: none; stroke: #000000\"/>\n",
       "    <path clip-path=\"url(#p509d619e20)\" d=\"M 189.426446 157.130586  L 197.112397 196.196343  \" style=\"fill: none; stroke: #000000\"/>\n",
       "    <path clip-path=\"url(#p509d619e20)\" d=\"M 189.426446 157.130586  L 217.095868 158.551159  \" style=\"fill: none; stroke: #808080\"/>\n",
       "    <path clip-path=\"url(#p509d619e20)\" d=\"M 181.433058 88.943084  L 154.68595 97.466522  \" style=\"fill: none; stroke: #000000\"/>\n",
       "    <path clip-path=\"url(#p509d619e20)\" d=\"M 181.433058 88.943084  L 202.338843 114.513398  \" style=\"fill: none; stroke: #000000\"/>\n",
       "    <path clip-path=\"url(#p509d619e20)\" d=\"M 181.433058 88.943084  L 187.889256 60.886768  \" style=\"fill: none; stroke: #ff0000\"/>\n",
       "    <path clip-path=\"url(#p509d619e20)\" d=\"M 129.476033 161.747448  L 132.242975 132.27056  \" style=\"fill: none; stroke: #a52a2a\"/>\n",
       "    <path clip-path=\"url(#p509d619e20)\" d=\"M 129.476033 161.747448  L 106.72562 174.532605  \" style=\"fill: none; stroke: #000000\"/>\n",
       "    <path clip-path=\"url(#p509d619e20)\" d=\"M 129.476033 161.747448  L 154.68595 180.214897  \" style=\"fill: none; stroke: #a52a2a\"/>\n",
       "    <path clip-path=\"url(#p509d619e20)\" d=\"M 221.092562 205.78521  L 243.842975 191.579481  \" style=\"fill: none; stroke: #000000\"/>\n",
       "    <path clip-path=\"url(#p509d619e20)\" d=\"M 221.092562 205.78521  L 231.238017 233.13124  \" style=\"fill: none; stroke: #000000\"/>\n",
       "    <path clip-path=\"url(#p509d619e20)\" d=\"M 221.092562 205.78521  L 197.112397 196.196343  \" style=\"fill: none; stroke: #ff0000\"/>\n",
       "    <path clip-path=\"url(#p509d619e20)\" d=\"M 106.72562 174.532605  L 104.573554 203.654351  \" style=\"fill: none; stroke: #808080\"/>\n",
       "    <path clip-path=\"url(#p509d619e20)\" d=\"M 243.842975 191.579481  L 256.447934 219.99094  \" style=\"fill: none; stroke: #808080\"/>\n",
       "    <path clip-path=\"url(#p509d619e20)\" d=\"M 231.238017 233.13124  L 256.447934 219.99094  \" style=\"fill: none; stroke: #808080\"/>\n",
       "    <path clip-path=\"url(#p509d619e20)\" d=\"M 187.889256 60.886768  L 212.484298 53.42876  \" style=\"fill: none; stroke: #808080\"/>\n",
       "    <path clip-path=\"url(#p509d619e20)\" d=\"M 335.766942 137.242565  L 311.786777 153.224011  \" style=\"fill: none; stroke: #000000\"/>\n",
       "    <path clip-path=\"url(#p509d619e20)\" d=\"M 335.766942 137.242565  L 359.747107 153.224011  \" style=\"fill: none; stroke: #000000\"/>\n",
       "    <path clip-path=\"url(#p509d619e20)\" d=\"M 335.766942 137.242565  L 335.766942 105.279673  \" style=\"fill: none; stroke: #000000\"/>\n",
       "    <path clip-path=\"url(#p509d619e20)\" d=\"M 311.786777 153.224011  L 311.786777 185.186902  \" style=\"fill: none; stroke: #000000\"/>\n",
       "    <path clip-path=\"url(#p509d619e20)\" d=\"M 359.747107 153.224011  L 359.747107 185.186902  \" style=\"fill: none; stroke: #000000\"/>\n",
       "    <path clip-path=\"url(#p509d619e20)\" d=\"M 335.766942 201.168348  L 359.747107 185.186902  \" style=\"fill: none; stroke: #000000\"/>\n",
       "    <path clip-path=\"url(#p509d619e20)\" d=\"M 335.766942 201.168348  L 311.786777 185.186902  \" style=\"fill: none; stroke: #000000\"/>\n",
       "    <path clip-path=\"url(#p509d619e20)\" d=\"M 335.766942 201.168348  L 335.766942 233.13124  \" style=\"fill: none; stroke: #000000\"/>\n",
       "   </g>\n",
       "   <g id=\"matplotlib.axis_1\">\n",
       "    <g id=\"xtick_1\"/>\n",
       "    <g id=\"xtick_2\"/>\n",
       "    <g id=\"xtick_3\"/>\n",
       "    <g id=\"xtick_4\"/>\n",
       "    <g id=\"xtick_5\"/>\n",
       "    <g id=\"xtick_6\"/>\n",
       "   </g>\n",
       "   <g id=\"matplotlib.axis_2\">\n",
       "    <g id=\"ytick_1\"/>\n",
       "    <g id=\"ytick_2\"/>\n",
       "    <g id=\"ytick_3\"/>\n",
       "    <g id=\"ytick_4\"/>\n",
       "    <g id=\"ytick_5\"/>\n",
       "    <g id=\"ytick_6\"/>\n",
       "    <g id=\"ytick_7\"/>\n",
       "   </g>\n",
       "   <g id=\"PathCollection_1\">\n",
       "    <defs>\n",
       "     <path d=\"M 0 8.660254  C 2.296726 8.660254 4.499694 7.747755 6.123724 6.123724  C 7.747755 4.499694 8.660254 2.296726 8.660254 -0  C 8.660254 -2.296726 7.747755 -4.499694 6.123724 -6.123724  C 4.499694 -7.747755 2.296726 -8.660254 0 -8.660254  C -2.296726 -8.660254 -4.499694 -7.747755 -6.123724 -6.123724  C -7.747755 -4.499694 -8.660254 -2.296726 -8.660254 0  C -8.660254 2.296726 -7.747755 4.499694 -6.123724 6.123724  C -4.499694 7.747755 -2.296726 8.660254 0 8.660254  z \" id=\"C0_0_72e3b1de23\"/>\n",
       "    </defs>\n",
       "    <g clip-path=\"url(#p509d619e20)\">\n",
       "     <use style=\"fill: #a6a6ab; stroke: #a6a6ab\" x=\"112.566942\" xlink:href=\"#C0_0_72e3b1de23\" y=\"97.466522\"/>\n",
       "    </g>\n",
       "    <g clip-path=\"url(#p509d619e20)\">\n",
       "     <use style=\"fill: #a6a6ab; stroke: #a6a6ab\" x=\"189.426446\" xlink:href=\"#C0_0_72e3b1de23\" y=\"157.130586\"/>\n",
       "    </g>\n",
       "    <g clip-path=\"url(#p509d619e20)\">\n",
       "     <use style=\"fill: #ff8000; stroke: #ff8000\" x=\"181.433058\" xlink:href=\"#C0_0_72e3b1de23\" y=\"88.943084\"/>\n",
       "    </g>\n",
       "    <g clip-path=\"url(#p509d619e20)\">\n",
       "     <use style=\"fill: #ff8000; stroke: #ff8000\" x=\"129.476033\" xlink:href=\"#C0_0_72e3b1de23\" y=\"161.747448\"/>\n",
       "    </g>\n",
       "    <g clip-path=\"url(#p509d619e20)\">\n",
       "     <use style=\"fill: #ff8000; stroke: #ff8000\" x=\"221.092562\" xlink:href=\"#C0_0_72e3b1de23\" y=\"205.78521\"/>\n",
       "    </g>\n",
       "    <g clip-path=\"url(#p509d619e20)\">\n",
       "     <use style=\"fill: #ff0d0d; stroke: #ff0d0d\" x=\"95.657851\" xlink:href=\"#C0_0_72e3b1de23\" y=\"130.849987\"/>\n",
       "    </g>\n",
       "    <g clip-path=\"url(#p509d619e20)\">\n",
       "     <use style=\"fill: #ff0d0d; stroke: #ff0d0d\" x=\"154.68595\" xlink:href=\"#C0_0_72e3b1de23\" y=\"97.466522\"/>\n",
       "    </g>\n",
       "    <g clip-path=\"url(#p509d619e20)\">\n",
       "     <use style=\"fill: #ff0d0d; stroke: #ff0d0d\" x=\"132.242975\" xlink:href=\"#C0_0_72e3b1de23\" y=\"132.27056\"/>\n",
       "    </g>\n",
       "    <g clip-path=\"url(#p509d619e20)\">\n",
       "     <use style=\"fill: #ff0d0d; stroke: #ff0d0d\" x=\"106.72562\" xlink:href=\"#C0_0_72e3b1de23\" y=\"174.532605\"/>\n",
       "    </g>\n",
       "    <g clip-path=\"url(#p509d619e20)\">\n",
       "     <use style=\"fill: #ff0d0d; stroke: #ff0d0d\" x=\"243.842975\" xlink:href=\"#C0_0_72e3b1de23\" y=\"191.579481\"/>\n",
       "    </g>\n",
       "    <g clip-path=\"url(#p509d619e20)\">\n",
       "     <use style=\"fill: #ff0d0d; stroke: #ff0d0d\" x=\"231.238017\" xlink:href=\"#C0_0_72e3b1de23\" y=\"233.13124\"/>\n",
       "    </g>\n",
       "    <g clip-path=\"url(#p509d619e20)\">\n",
       "     <use style=\"fill: #ff0d0d; stroke: #ff0d0d\" x=\"169.135537\" xlink:href=\"#C0_0_72e3b1de23\" y=\"137.597708\"/>\n",
       "    </g>\n",
       "    <g clip-path=\"url(#p509d619e20)\">\n",
       "     <use style=\"fill: #ff0d0d; stroke: #ff0d0d\" x=\"202.338843\" xlink:href=\"#C0_0_72e3b1de23\" y=\"114.513398\"/>\n",
       "    </g>\n",
       "    <g clip-path=\"url(#p509d619e20)\">\n",
       "     <use style=\"fill: #ff0d0d; stroke: #ff0d0d\" x=\"154.68595\" xlink:href=\"#C0_0_72e3b1de23\" y=\"180.214897\"/>\n",
       "    </g>\n",
       "    <g clip-path=\"url(#p509d619e20)\">\n",
       "     <use style=\"fill: #ff0d0d; stroke: #ff0d0d\" x=\"197.112397\" xlink:href=\"#C0_0_72e3b1de23\" y=\"196.196343\"/>\n",
       "    </g>\n",
       "    <g clip-path=\"url(#p509d619e20)\">\n",
       "     <use style=\"fill: #ff0d0d; stroke: #ff0d0d\" x=\"187.889256\" xlink:href=\"#C0_0_72e3b1de23\" y=\"60.886768\"/>\n",
       "    </g>\n",
       "    <g clip-path=\"url(#p509d619e20)\">\n",
       "     <use style=\"fill: #a6a6ab; stroke: #a6a6ab\" x=\"256.447934\" xlink:href=\"#C0_0_72e3b1de23\" y=\"219.99094\"/>\n",
       "    </g>\n",
       "    <g clip-path=\"url(#p509d619e20)\">\n",
       "     <use style=\"fill: #a6a6ab; stroke: #a6a6ab\" x=\"104.573554\" xlink:href=\"#C0_0_72e3b1de23\" y=\"203.654351\"/>\n",
       "    </g>\n",
       "    <g clip-path=\"url(#p509d619e20)\">\n",
       "     <use style=\"fill: #a6a6ab; stroke: #a6a6ab\" x=\"212.484298\" xlink:href=\"#C0_0_72e3b1de23\" y=\"53.42876\"/>\n",
       "    </g>\n",
       "    <g clip-path=\"url(#p509d619e20)\">\n",
       "     <use style=\"fill: #ff0d0d; stroke: #ff0d0d\" x=\"83.052893\" xlink:href=\"#C0_0_72e3b1de23\" y=\"98.176809\"/>\n",
       "    </g>\n",
       "    <g clip-path=\"url(#p509d619e20)\">\n",
       "     <use style=\"fill: #ff0d0d; stroke: #ff0d0d\" x=\"97.502479\" xlink:href=\"#C0_0_72e3b1de23\" y=\"68.69992\"/>\n",
       "    </g>\n",
       "    <g clip-path=\"url(#p509d619e20)\">\n",
       "     <use style=\"fill: #ff0d0d; stroke: #ff0d0d\" x=\"126.709091\" xlink:href=\"#C0_0_72e3b1de23\" y=\"68.344776\"/>\n",
       "    </g>\n",
       "    <g clip-path=\"url(#p509d619e20)\">\n",
       "     <use style=\"fill: #ff0d0d; stroke: #ff0d0d\" x=\"217.095868\" xlink:href=\"#C0_0_72e3b1de23\" y=\"158.551159\"/>\n",
       "    </g>\n",
       "    <g clip-path=\"url(#p509d619e20)\">\n",
       "     <use style=\"fill: #3050f8; stroke: #3050f8\" x=\"335.766942\" xlink:href=\"#C0_0_72e3b1de23\" y=\"137.242565\"/>\n",
       "    </g>\n",
       "    <g clip-path=\"url(#p509d619e20)\">\n",
       "     <use style=\"fill: #909090; stroke: #909090\" x=\"311.786777\" xlink:href=\"#C0_0_72e3b1de23\" y=\"153.224011\"/>\n",
       "    </g>\n",
       "    <g clip-path=\"url(#p509d619e20)\">\n",
       "     <use style=\"fill: #909090; stroke: #909090\" x=\"359.747107\" xlink:href=\"#C0_0_72e3b1de23\" y=\"153.224011\"/>\n",
       "    </g>\n",
       "    <g clip-path=\"url(#p509d619e20)\">\n",
       "     <use style=\"fill: #909090; stroke: #909090\" x=\"335.766942\" xlink:href=\"#C0_0_72e3b1de23\" y=\"105.279673\"/>\n",
       "    </g>\n",
       "    <g clip-path=\"url(#p509d619e20)\">\n",
       "     <use style=\"fill: #3050f8; stroke: #3050f8\" x=\"335.766942\" xlink:href=\"#C0_0_72e3b1de23\" y=\"201.168348\"/>\n",
       "    </g>\n",
       "    <g clip-path=\"url(#p509d619e20)\">\n",
       "     <use style=\"fill: #909090; stroke: #909090\" x=\"359.747107\" xlink:href=\"#C0_0_72e3b1de23\" y=\"185.186902\"/>\n",
       "    </g>\n",
       "    <g clip-path=\"url(#p509d619e20)\">\n",
       "     <use style=\"fill: #909090; stroke: #909090\" x=\"311.786777\" xlink:href=\"#C0_0_72e3b1de23\" y=\"185.186902\"/>\n",
       "    </g>\n",
       "    <g clip-path=\"url(#p509d619e20)\">\n",
       "     <use style=\"fill: #909090; stroke: #909090\" x=\"335.766942\" xlink:href=\"#C0_0_72e3b1de23\" y=\"233.13124\"/>\n",
       "    </g>\n",
       "   </g>\n",
       "   <g id=\"patch_3\">\n",
       "    <path d=\"M 54 252  L 54 34.56  \" style=\"fill: none; stroke: #000000; stroke-width: 0.8; stroke-linejoin: miter; stroke-linecap: square\"/>\n",
       "   </g>\n",
       "   <g id=\"patch_4\">\n",
       "    <path d=\"M 388.8 252  L 388.8 34.56  \" style=\"fill: none; stroke: #000000; stroke-width: 0.8; stroke-linejoin: miter; stroke-linecap: square\"/>\n",
       "   </g>\n",
       "   <g id=\"patch_5\">\n",
       "    <path d=\"M 54 252  L 388.8 252  \" style=\"fill: none; stroke: #000000; stroke-width: 0.8; stroke-linejoin: miter; stroke-linecap: square\"/>\n",
       "   </g>\n",
       "   <g id=\"patch_6\">\n",
       "    <path d=\"M 54 34.56  L 388.8 34.56  \" style=\"fill: none; stroke: #000000; stroke-width: 0.8; stroke-linejoin: miter; stroke-linecap: square\"/>\n",
       "   </g>\n",
       "   <g id=\"text_1\">\n",
       "    <g clip-path=\"url(#p509d619e20)\">\n",
       "     <!-- V -->\n",
       "     <g transform=\"translate(108.462567 100.777772)scale(0.12 -0.12)\">\n",
       "      <defs>\n",
       "       <path d=\"M 1831 0  L 50 4666  L 709 4666  L 2188 738  L 3669 4666  L 4325 4666  L 2547 0  L 1831 0  z \" id=\"DejaVuSans-56\" transform=\"scale(0.015625)\"/>\n",
       "      </defs>\n",
       "      <use xlink:href=\"#DejaVuSans-56\"/>\n",
       "     </g>\n",
       "    </g>\n",
       "   </g>\n",
       "   <g id=\"text_2\">\n",
       "    <g clip-path=\"url(#p509d619e20)\">\n",
       "     <!-- V -->\n",
       "     <g transform=\"translate(185.322071 160.441836)scale(0.12 -0.12)\">\n",
       "      <use xlink:href=\"#DejaVuSans-56\"/>\n",
       "     </g>\n",
       "    </g>\n",
       "   </g>\n",
       "   <g id=\"text_3\">\n",
       "    <g clip-path=\"url(#p509d619e20)\">\n",
       "     <!-- PH1 -->\n",
       "     <g transform=\"translate(169.485558 92.254334)scale(0.12 -0.12)\">\n",
       "      <defs>\n",
       "       <path d=\"M 1259 4147  L 1259 2394  L 2053 2394  Q 2494 2394 2734 2622  Q 2975 2850 2975 3272  Q 2975 3691 2734 3919  Q 2494 4147 2053 4147  L 1259 4147  z M 628 4666  L 2053 4666  Q 2838 4666 3239 4311  Q 3641 3956 3641 3272  Q 3641 2581 3239 2228  Q 2838 1875 2053 1875  L 1259 1875  L 1259 0  L 628 0  L 628 4666  z \" id=\"DejaVuSans-50\" transform=\"scale(0.015625)\"/>\n",
       "       <path d=\"M 628 4666  L 1259 4666  L 1259 2753  L 3553 2753  L 3553 4666  L 4184 4666  L 4184 0  L 3553 0  L 3553 2222  L 1259 2222  L 1259 0  L 628 0  L 628 4666  z \" id=\"DejaVuSans-48\" transform=\"scale(0.015625)\"/>\n",
       "       <path d=\"M 794 531  L 1825 531  L 1825 4091  L 703 3866  L 703 4441  L 1819 4666  L 2450 4666  L 2450 531  L 3481 531  L 3481 0  L 794 0  L 794 531  z \" id=\"DejaVuSans-31\" transform=\"scale(0.015625)\"/>\n",
       "      </defs>\n",
       "      <use xlink:href=\"#DejaVuSans-50\"/>\n",
       "      <use x=\"60.302734\" xlink:href=\"#DejaVuSans-48\"/>\n",
       "      <use x=\"135.498047\" xlink:href=\"#DejaVuSans-31\"/>\n",
       "     </g>\n",
       "    </g>\n",
       "   </g>\n",
       "   <g id=\"text_4\">\n",
       "    <g clip-path=\"url(#p509d619e20)\">\n",
       "     <!-- PH1 -->\n",
       "     <g transform=\"translate(117.528533 165.058698)scale(0.12 -0.12)\">\n",
       "      <use xlink:href=\"#DejaVuSans-50\"/>\n",
       "      <use x=\"60.302734\" xlink:href=\"#DejaVuSans-48\"/>\n",
       "      <use x=\"135.498047\" xlink:href=\"#DejaVuSans-31\"/>\n",
       "     </g>\n",
       "    </g>\n",
       "   </g>\n",
       "   <g id=\"text_5\">\n",
       "    <g clip-path=\"url(#p509d619e20)\">\n",
       "     <!-- PH1 -->\n",
       "     <g transform=\"translate(209.145062 209.09646)scale(0.12 -0.12)\">\n",
       "      <use xlink:href=\"#DejaVuSans-50\"/>\n",
       "      <use x=\"60.302734\" xlink:href=\"#DejaVuSans-48\"/>\n",
       "      <use x=\"135.498047\" xlink:href=\"#DejaVuSans-31\"/>\n",
       "     </g>\n",
       "    </g>\n",
       "   </g>\n",
       "   <g id=\"text_6\">\n",
       "    <g clip-path=\"url(#p509d619e20)\">\n",
       "     <!-- O -->\n",
       "     <g transform=\"translate(90.934726 134.161237)scale(0.12 -0.12)\">\n",
       "      <defs>\n",
       "       <path d=\"M 2522 4238  Q 1834 4238 1429 3725  Q 1025 3213 1025 2328  Q 1025 1447 1429 934  Q 1834 422 2522 422  Q 3209 422 3611 934  Q 4013 1447 4013 2328  Q 4013 3213 3611 3725  Q 3209 4238 2522 4238  z M 2522 4750  Q 3503 4750 4090 4092  Q 4678 3434 4678 2328  Q 4678 1225 4090 567  Q 3503 -91 2522 -91  Q 1538 -91 948 565  Q 359 1222 359 2328  Q 359 3434 948 4092  Q 1538 4750 2522 4750  z \" id=\"DejaVuSans-4f\" transform=\"scale(0.015625)\"/>\n",
       "      </defs>\n",
       "      <use xlink:href=\"#DejaVuSans-4f\"/>\n",
       "     </g>\n",
       "    </g>\n",
       "   </g>\n",
       "   <g id=\"text_7\">\n",
       "    <g clip-path=\"url(#p509d619e20)\">\n",
       "     <!-- O- -->\n",
       "     <g transform=\"translate(147.633138 100.777772)scale(0.12 -0.12)\">\n",
       "      <defs>\n",
       "       <path d=\"M 313 2009  L 1997 2009  L 1997 1497  L 313 1497  L 313 2009  z \" id=\"DejaVuSans-2d\" transform=\"scale(0.015625)\"/>\n",
       "      </defs>\n",
       "      <use xlink:href=\"#DejaVuSans-4f\"/>\n",
       "      <use x=\"81.460938\" xlink:href=\"#DejaVuSans-2d\"/>\n",
       "     </g>\n",
       "    </g>\n",
       "   </g>\n",
       "   <g id=\"text_8\">\n",
       "    <g clip-path=\"url(#p509d619e20)\">\n",
       "     <!-- O -->\n",
       "     <g transform=\"translate(127.51985 135.58181)scale(0.12 -0.12)\">\n",
       "      <use xlink:href=\"#DejaVuSans-4f\"/>\n",
       "     </g>\n",
       "    </g>\n",
       "   </g>\n",
       "   <g id=\"text_9\">\n",
       "    <g clip-path=\"url(#p509d619e20)\">\n",
       "     <!-- O -->\n",
       "     <g transform=\"translate(102.002495 177.843855)scale(0.12 -0.12)\">\n",
       "      <use xlink:href=\"#DejaVuSans-4f\"/>\n",
       "     </g>\n",
       "    </g>\n",
       "   </g>\n",
       "   <g id=\"text_10\">\n",
       "    <g clip-path=\"url(#p509d619e20)\">\n",
       "     <!-- O -->\n",
       "     <g transform=\"translate(239.11985 194.890731)scale(0.12 -0.12)\">\n",
       "      <use xlink:href=\"#DejaVuSans-4f\"/>\n",
       "     </g>\n",
       "    </g>\n",
       "   </g>\n",
       "   <g id=\"text_11\">\n",
       "    <g clip-path=\"url(#p509d619e20)\">\n",
       "     <!-- O -->\n",
       "     <g transform=\"translate(226.514892 236.44249)scale(0.12 -0.12)\">\n",
       "      <use xlink:href=\"#DejaVuSans-4f\"/>\n",
       "     </g>\n",
       "    </g>\n",
       "   </g>\n",
       "   <g id=\"text_12\">\n",
       "    <g clip-path=\"url(#p509d619e20)\">\n",
       "     <!-- O -->\n",
       "     <g transform=\"translate(164.412412 140.908958)scale(0.12 -0.12)\">\n",
       "      <use xlink:href=\"#DejaVuSans-4f\"/>\n",
       "     </g>\n",
       "    </g>\n",
       "   </g>\n",
       "   <g id=\"text_13\">\n",
       "    <g clip-path=\"url(#p509d619e20)\">\n",
       "     <!-- O- -->\n",
       "     <g transform=\"translate(195.28603 117.824648)scale(0.12 -0.12)\">\n",
       "      <use xlink:href=\"#DejaVuSans-4f\"/>\n",
       "      <use x=\"81.460938\" xlink:href=\"#DejaVuSans-2d\"/>\n",
       "     </g>\n",
       "    </g>\n",
       "   </g>\n",
       "   <g id=\"text_14\">\n",
       "    <g clip-path=\"url(#p509d619e20)\">\n",
       "     <!-- O -->\n",
       "     <g transform=\"translate(149.962825 183.526147)scale(0.12 -0.12)\">\n",
       "      <use xlink:href=\"#DejaVuSans-4f\"/>\n",
       "     </g>\n",
       "    </g>\n",
       "   </g>\n",
       "   <g id=\"text_15\">\n",
       "    <g clip-path=\"url(#p509d619e20)\">\n",
       "     <!-- O -->\n",
       "     <g transform=\"translate(192.389272 199.507593)scale(0.12 -0.12)\">\n",
       "      <use xlink:href=\"#DejaVuSans-4f\"/>\n",
       "     </g>\n",
       "    </g>\n",
       "   </g>\n",
       "   <g id=\"text_16\">\n",
       "    <g clip-path=\"url(#p509d619e20)\">\n",
       "     <!-- O -->\n",
       "     <g transform=\"translate(183.166131 64.198018)scale(0.12 -0.12)\">\n",
       "      <use xlink:href=\"#DejaVuSans-4f\"/>\n",
       "     </g>\n",
       "    </g>\n",
       "   </g>\n",
       "   <g id=\"text_17\">\n",
       "    <g clip-path=\"url(#p509d619e20)\">\n",
       "     <!-- V -->\n",
       "     <g transform=\"translate(252.343559 223.30219)scale(0.12 -0.12)\">\n",
       "      <use xlink:href=\"#DejaVuSans-56\"/>\n",
       "     </g>\n",
       "    </g>\n",
       "   </g>\n",
       "   <g id=\"text_18\">\n",
       "    <g clip-path=\"url(#p509d619e20)\">\n",
       "     <!-- V -->\n",
       "     <g transform=\"translate(100.469179 206.965601)scale(0.12 -0.12)\">\n",
       "      <use xlink:href=\"#DejaVuSans-56\"/>\n",
       "     </g>\n",
       "    </g>\n",
       "   </g>\n",
       "   <g id=\"text_19\">\n",
       "    <g clip-path=\"url(#p509d619e20)\">\n",
       "     <!-- V -->\n",
       "     <g transform=\"translate(208.379923 56.74001)scale(0.12 -0.12)\">\n",
       "      <use xlink:href=\"#DejaVuSans-56\"/>\n",
       "     </g>\n",
       "    </g>\n",
       "   </g>\n",
       "   <g id=\"text_20\">\n",
       "    <g clip-path=\"url(#p509d619e20)\">\n",
       "     <!-- O -->\n",
       "     <g transform=\"translate(78.329768 101.488059)scale(0.12 -0.12)\">\n",
       "      <use xlink:href=\"#DejaVuSans-4f\"/>\n",
       "     </g>\n",
       "    </g>\n",
       "   </g>\n",
       "   <g id=\"text_21\">\n",
       "    <g clip-path=\"url(#p509d619e20)\">\n",
       "     <!-- O -->\n",
       "     <g transform=\"translate(92.779354 72.01117)scale(0.12 -0.12)\">\n",
       "      <use xlink:href=\"#DejaVuSans-4f\"/>\n",
       "     </g>\n",
       "    </g>\n",
       "   </g>\n",
       "   <g id=\"text_22\">\n",
       "    <g clip-path=\"url(#p509d619e20)\">\n",
       "     <!-- O -->\n",
       "     <g transform=\"translate(121.985966 71.656026)scale(0.12 -0.12)\">\n",
       "      <use xlink:href=\"#DejaVuSans-4f\"/>\n",
       "     </g>\n",
       "    </g>\n",
       "   </g>\n",
       "   <g id=\"text_23\">\n",
       "    <g clip-path=\"url(#p509d619e20)\">\n",
       "     <!-- O -->\n",
       "     <g transform=\"translate(212.372743 161.862409)scale(0.12 -0.12)\">\n",
       "      <use xlink:href=\"#DejaVuSans-4f\"/>\n",
       "     </g>\n",
       "    </g>\n",
       "   </g>\n",
       "   <g id=\"text_24\">\n",
       "    <g clip-path=\"url(#p509d619e20)\">\n",
       "     <!-- N+H1 -->\n",
       "     <g transform=\"translate(317.920692 140.553815)scale(0.12 -0.12)\">\n",
       "      <defs>\n",
       "       <path d=\"M 628 4666  L 1478 4666  L 3547 763  L 3547 4666  L 4159 4666  L 4159 0  L 3309 0  L 1241 3903  L 1241 0  L 628 0  L 628 4666  z \" id=\"DejaVuSans-4e\" transform=\"scale(0.015625)\"/>\n",
       "       <path d=\"M 2944 4013  L 2944 2272  L 4684 2272  L 4684 1741  L 2944 1741  L 2944 0  L 2419 0  L 2419 1741  L 678 1741  L 678 2272  L 2419 2272  L 2419 4013  L 2944 4013  z \" id=\"DejaVuSans-2b\" transform=\"scale(0.015625)\"/>\n",
       "      </defs>\n",
       "      <use xlink:href=\"#DejaVuSans-4e\"/>\n",
       "      <use x=\"74.804688\" xlink:href=\"#DejaVuSans-2b\"/>\n",
       "      <use x=\"158.59375\" xlink:href=\"#DejaVuSans-48\"/>\n",
       "      <use x=\"233.789062\" xlink:href=\"#DejaVuSans-31\"/>\n",
       "     </g>\n",
       "    </g>\n",
       "   </g>\n",
       "   <g id=\"text_25\">\n",
       "    <g clip-path=\"url(#p509d619e20)\">\n",
       "     <!-- CH2 -->\n",
       "     <g transform=\"translate(299.267402 156.535261)scale(0.12 -0.12)\">\n",
       "      <defs>\n",
       "       <path d=\"M 4122 4306  L 4122 3641  Q 3803 3938 3442 4084  Q 3081 4231 2675 4231  Q 1875 4231 1450 3742  Q 1025 3253 1025 2328  Q 1025 1406 1450 917  Q 1875 428 2675 428  Q 3081 428 3442 575  Q 3803 722 4122 1019  L 4122 359  Q 3791 134 3420 21  Q 3050 -91 2638 -91  Q 1578 -91 968 557  Q 359 1206 359 2328  Q 359 3453 968 4101  Q 1578 4750 2638 4750  Q 3056 4750 3426 4639  Q 3797 4528 4122 4306  z \" id=\"DejaVuSans-43\" transform=\"scale(0.015625)\"/>\n",
       "       <path d=\"M 1228 531  L 3431 531  L 3431 0  L 469 0  L 469 531  Q 828 903 1448 1529  Q 2069 2156 2228 2338  Q 2531 2678 2651 2914  Q 2772 3150 2772 3378  Q 2772 3750 2511 3984  Q 2250 4219 1831 4219  Q 1534 4219 1204 4116  Q 875 4013 500 3803  L 500 4441  Q 881 4594 1212 4672  Q 1544 4750 1819 4750  Q 2544 4750 2975 4387  Q 3406 4025 3406 3419  Q 3406 3131 3298 2873  Q 3191 2616 2906 2266  Q 2828 2175 2409 1742  Q 1991 1309 1228 531  z \" id=\"DejaVuSans-32\" transform=\"scale(0.015625)\"/>\n",
       "      </defs>\n",
       "      <use xlink:href=\"#DejaVuSans-43\"/>\n",
       "      <use x=\"69.824219\" xlink:href=\"#DejaVuSans-48\"/>\n",
       "      <use x=\"145.019531\" xlink:href=\"#DejaVuSans-32\"/>\n",
       "     </g>\n",
       "    </g>\n",
       "   </g>\n",
       "   <g id=\"text_26\">\n",
       "    <g clip-path=\"url(#p509d619e20)\">\n",
       "     <!-- CH2 -->\n",
       "     <g transform=\"translate(347.227732 156.535261)scale(0.12 -0.12)\">\n",
       "      <use xlink:href=\"#DejaVuSans-43\"/>\n",
       "      <use x=\"69.824219\" xlink:href=\"#DejaVuSans-48\"/>\n",
       "      <use x=\"145.019531\" xlink:href=\"#DejaVuSans-32\"/>\n",
       "     </g>\n",
       "    </g>\n",
       "   </g>\n",
       "   <g id=\"text_27\">\n",
       "    <g clip-path=\"url(#p509d619e20)\">\n",
       "     <!-- CH3 -->\n",
       "     <g transform=\"translate(323.247567 108.590923)scale(0.12 -0.12)\">\n",
       "      <defs>\n",
       "       <path d=\"M 2597 2516  Q 3050 2419 3304 2112  Q 3559 1806 3559 1356  Q 3559 666 3084 287  Q 2609 -91 1734 -91  Q 1441 -91 1130 -33  Q 819 25 488 141  L 488 750  Q 750 597 1062 519  Q 1375 441 1716 441  Q 2309 441 2620 675  Q 2931 909 2931 1356  Q 2931 1769 2642 2001  Q 2353 2234 1838 2234  L 1294 2234  L 1294 2753  L 1863 2753  Q 2328 2753 2575 2939  Q 2822 3125 2822 3475  Q 2822 3834 2567 4026  Q 2313 4219 1838 4219  Q 1578 4219 1281 4162  Q 984 4106 628 3988  L 628 4550  Q 988 4650 1302 4700  Q 1616 4750 1894 4750  Q 2613 4750 3031 4423  Q 3450 4097 3450 3541  Q 3450 3153 3228 2886  Q 3006 2619 2597 2516  z \" id=\"DejaVuSans-33\" transform=\"scale(0.015625)\"/>\n",
       "      </defs>\n",
       "      <use xlink:href=\"#DejaVuSans-43\"/>\n",
       "      <use x=\"69.824219\" xlink:href=\"#DejaVuSans-48\"/>\n",
       "      <use x=\"145.019531\" xlink:href=\"#DejaVuSans-33\"/>\n",
       "     </g>\n",
       "    </g>\n",
       "   </g>\n",
       "   <g id=\"text_28\">\n",
       "    <g clip-path=\"url(#p509d619e20)\">\n",
       "     <!-- N+H1 -->\n",
       "     <g transform=\"translate(317.920692 204.479598)scale(0.12 -0.12)\">\n",
       "      <use xlink:href=\"#DejaVuSans-4e\"/>\n",
       "      <use x=\"74.804688\" xlink:href=\"#DejaVuSans-2b\"/>\n",
       "      <use x=\"158.59375\" xlink:href=\"#DejaVuSans-48\"/>\n",
       "      <use x=\"233.789062\" xlink:href=\"#DejaVuSans-31\"/>\n",
       "     </g>\n",
       "    </g>\n",
       "   </g>\n",
       "   <g id=\"text_29\">\n",
       "    <g clip-path=\"url(#p509d619e20)\">\n",
       "     <!-- CH2 -->\n",
       "     <g transform=\"translate(347.227732 188.498152)scale(0.12 -0.12)\">\n",
       "      <use xlink:href=\"#DejaVuSans-43\"/>\n",
       "      <use x=\"69.824219\" xlink:href=\"#DejaVuSans-48\"/>\n",
       "      <use x=\"145.019531\" xlink:href=\"#DejaVuSans-32\"/>\n",
       "     </g>\n",
       "    </g>\n",
       "   </g>\n",
       "   <g id=\"text_30\">\n",
       "    <g clip-path=\"url(#p509d619e20)\">\n",
       "     <!-- CH2 -->\n",
       "     <g transform=\"translate(299.267402 188.498152)scale(0.12 -0.12)\">\n",
       "      <use xlink:href=\"#DejaVuSans-43\"/>\n",
       "      <use x=\"69.824219\" xlink:href=\"#DejaVuSans-48\"/>\n",
       "      <use x=\"145.019531\" xlink:href=\"#DejaVuSans-32\"/>\n",
       "     </g>\n",
       "    </g>\n",
       "   </g>\n",
       "   <g id=\"text_31\">\n",
       "    <g clip-path=\"url(#p509d619e20)\">\n",
       "     <!-- CH3 -->\n",
       "     <g transform=\"translate(323.247567 236.44249)scale(0.12 -0.12)\">\n",
       "      <use xlink:href=\"#DejaVuSans-43\"/>\n",
       "      <use x=\"69.824219\" xlink:href=\"#DejaVuSans-48\"/>\n",
       "      <use x=\"145.019531\" xlink:href=\"#DejaVuSans-33\"/>\n",
       "     </g>\n",
       "    </g>\n",
       "   </g>\n",
       "  </g>\n",
       " </g>\n",
       " <defs>\n",
       "  <clipPath id=\"p509d619e20\">\n",
       "   <rect height=\"217.44\" width=\"334.8\" x=\"54\" y=\"34.56\"/>\n",
       "  </clipPath>\n",
       " </defs>\n",
       "</svg>"
      ],
      "text/plain": [
       "<IPython.core.display.SVG object>"
      ]
     },
     "execution_count": 6,
     "metadata": {},
     "output_type": "execute_result"
    }
   ],
   "source": [
    "from IPython.core.display import SVG\n",
    "SVG(data=chemical_diagram.draw_svgdata())"
   ]
  },
  {
   "cell_type": "markdown",
   "metadata": {
    "pycharm": {
     "name": "#%% md\n"
    }
   },
   "source": [
    "Note in the above figure edges are colored by `CSD API` annotations.\n",
    "Gray edges indicating bonds running across the unit cell boundary."
   ]
  },
  {
   "cell_type": "code",
   "execution_count": 7,
   "metadata": {
    "pycharm": {
     "name": "#%%\n"
    }
   },
   "outputs": [
    {
     "data": {
      "text/plain": [
       "{0: ('yellow', 'unknown'),\n",
       " 1: ('black', 'single'),\n",
       " 2: ('red', 'double'),\n",
       " 3: ('blue', 'triple'),\n",
       " 4: ('green', 'quadruple'),\n",
       " 5: ('pink', 'aromatic'),\n",
       " 7: ('brown', 'delocalized'),\n",
       " 9: ('purple', 'pi')}"
      ]
     },
     "execution_count": 7,
     "metadata": {},
     "output_type": "execute_result"
    }
   ],
   "source": [
    "from chemicaldiagram.diagram import _edges_color_in_drawing\n",
    "_edges_color_in_drawing"
   ]
  },
  {
   "cell_type": "markdown",
   "metadata": {
    "pycharm": {
     "name": "#%% md\n"
    }
   },
   "source": [
    "Now look at the connected components and their building units. We expect `VO5`, `VO6` and `HPO3`."
   ]
  },
  {
   "cell_type": "code",
   "execution_count": 8,
   "metadata": {
    "pycharm": {
     "name": "#%%\n"
    }
   },
   "outputs": [
    {
     "name": "stdout",
     "output_type": "stream",
     "text": [
      "Sub diagrams:\n",
      "\t ChemicalDiagram: H3 O11 P3 V2 ; charge: -2.\n",
      "\t\tBuilding Units: [BuildingUnitDiagram: O6 V1 ; charge: -1., BuildingUnitDiagram: O5 V1 ; charge: -1., BuildingUnitDiagram: H1 O3 P1 ; charge: -2., BuildingUnitDiagram: H1 O3 P1 ; charge: 0., BuildingUnitDiagram: H1 O3 P1 ; charge: 0.]\n",
      "\t ChemicalDiagram: C6 H16 N2 ; charge: 2.\n",
      "\t\tBuilding Units: [BuildingUnitDiagram: C6 H16 N2 ; charge: 2.]\n"
     ]
    }
   ],
   "source": [
    "from chemicaldiagram import BuildingUnitDiagram\n",
    "sub_diagrams = chemical_diagram.get_components()\n",
    "print(\"Sub diagrams:\")\n",
    "for sd in sub_diagrams:\n",
    "    print(\"\\t\", sd)\n",
    "    print(\"\\t\\tBuilding Units:\", BuildingUnitDiagram.get_pbus_from_diagram(sd))"
   ]
  },
  {
   "cell_type": "markdown",
   "metadata": {
    "pycharm": {
     "name": "#%% md\n"
    }
   },
   "source": [
    "`ChemicalDiagram` also allows filtering structures based on subgraph isomorphism.\n",
    "The reason to use this rather than `ConQuest` is, still, to avoid inconsistency,\n",
    "as the \"same\" entry from `CSD API`, `WEB-CSD` and `CSD-system` may not be identical to each other.\n",
    "Also, you can add very complex conditions using graph-based functions.\n",
    "See [export_oxide](./export_oxide.py) for more examples."
   ]
  },
  {
   "cell_type": "code",
   "execution_count": 10,
   "metadata": {
    "pycharm": {
     "name": "#%%\n"
    }
   },
   "outputs": [
    {
     "name": "stderr",
     "output_type": "stream",
     "text": [
      "INFO:root:pass: must be a charge neutral structure\n",
      "INFO:root:pass: line graph inclusion: any C-N-H\n",
      "INFO:root:pass: line graph exclusion: any O-P-C\n"
     ]
    },
    {
     "name": "stdout",
     "output_type": "stream",
     "text": [
      "True\n"
     ]
    }
   ],
   "source": [
    "from chemicaldiagram import ChemicalDiagramFilter, ChemicalDiagram\n",
    "\n",
    "# define subgraph inclusion/exclusion rules\n",
    "rules = \"\"\"line graph inclusion: any C-N-H,\n",
    "line graph exclusion: any O-P-C,\"\"\"\n",
    "inclusion_subgraphs, exclusion_subgraphs = ChemicalDiagramFilter.generate_subgraph_rules(rules)\n",
    "\n",
    "# define a condition as a ChemicalDiagram -> bool function\n",
    "def cdf_condition(cd: ChemicalDiagram):\n",
    "    \"\"\"must be a charge neutral structure\"\"\"\n",
    "    return cd.total_charge == 0\n",
    "\n",
    "# create a filter for ChemicalDiagram\n",
    "cdf = ChemicalDiagramFilter(inclusion_subgraphs, exclusion_subgraphs, [cdf_condition, ])\n",
    "# turn on logging\n",
    "import logging\n",
    "logging.getLogger().setLevel(logging.INFO)\n",
    "accept = cdf.accept(chemical_diagram)\n",
    "print(accept)\n"
   ]
  }
 ],
 "metadata": {
  "kernelspec": {
   "display_name": "chemicaldiagram",
   "language": "python",
   "name": "chemicaldiagram"
  },
  "language_info": {
   "codemirror_mode": {
    "name": "ipython",
    "version": 3
   },
   "file_extension": ".py",
   "mimetype": "text/x-python",
   "name": "python",
   "nbconvert_exporter": "python",
   "pygments_lexer": "ipython3",
   "version": "3.7.0"
  }
 },
 "nbformat": 4,
 "nbformat_minor": 1
}